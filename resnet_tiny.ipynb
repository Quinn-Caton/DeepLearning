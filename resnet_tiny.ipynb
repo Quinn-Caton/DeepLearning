{
  "nbformat": 4,
  "nbformat_minor": 0,
  "metadata": {
    "colab": {
      "provenance": [],
      "machine_shape": "hm",
      "gpuType": "T4"
    },
    "kernelspec": {
      "name": "python3",
      "display_name": "Python 3"
    },
    "language_info": {
      "name": "python"
    },
    "accelerator": "GPU"
  },
  "cells": [
    {
      "cell_type": "code",
      "execution_count": null,
      "metadata": {
        "id": "UyJvvJA68pDa"
      },
      "outputs": [],
      "source": [
        "import numpy as np\n",
        "import matplotlib.pyplot as plt\n",
        "import seaborn as sns\n",
        "import tensorflow as tf\n",
        "from datetime import datetime\n",
        "from keras.preprocessing import image\n",
        "from tensorflow.keras.preprocessing.image import ImageDataGenerator\n",
        "from tensorflow.keras.layers import Dense, Flatten, Conv2D, UpSampling2D, Dropout,BatchNormalization,GlobalAveragePooling2D\n",
        "from sklearn.metrics import accuracy_score,confusion_matrix\n",
        "from sklearn.model_selection import train_test_split\n",
        "from tensorflow.keras.utils import to_categorical\n",
        "from PIL import Image"
      ]
    },
    {
      "cell_type": "code",
      "source": [
        "def plot_acc_loss(result):\n",
        "  # function to plot the accuracy and loss graphs\n",
        "  acc = result.history['accuracy']\n",
        "  val_acc = result.history['val_accuracy']\n",
        "  loss = result.history['loss']\n",
        "  val_loss = result.history['val_loss']\n",
        "\n",
        "  plt.figure(figsize=(20, 10))\n",
        "  plt.subplot(1, 2, 1)\n",
        "  plt.title(\"Training and Validation Accuracy\")\n",
        "  plt.plot(acc,color = 'green',label = 'Training Acuracy')\n",
        "  plt.plot(val_acc,color = 'red',label = 'Validation Accuracy')\n",
        "  plt.legend(loc='lower right')\n",
        "  plt.ylabel('accuracy')\n",
        "  plt.xlabel('epoch')\n",
        "  plt.subplot(1, 2, 2)\n",
        "  plt.title('Training and Validation Loss')\n",
        "  plt.plot(loss,color = 'blue',label = 'Training Loss')\n",
        "  plt.plot(val_loss,color = 'purple',label = 'Validation Loss')\n",
        "  plt.ylabel('loss')\n",
        "  plt.xlabel('epoch')\n",
        "  plt.legend(loc='upper right')\n",
        "  plt.show()"
      ],
      "metadata": {
        "id": "AHywWFYH9Gyp"
      },
      "execution_count": null,
      "outputs": []
    },
    {
      "cell_type": "code",
      "source": [
        "import imageio\n",
        "import six\n",
        "from keras.models import Model\n",
        "from keras.layers import ( Input, Activation, Dense, Flatten )\n",
        "import tensorflow as tf\n",
        "from keras.layers import ( Conv2D, MaxPooling2D, AveragePooling2D )\n",
        "from keras.layers import add\n",
        "from keras.layers import BatchNormalization\n",
        "from keras.regularizers import l2\n",
        "from keras import backend as K\n",
        "\n",
        "from keras.preprocessing.image import ImageDataGenerator\n",
        "from keras import utils as np_utils\n",
        "from keras.callbacks import ReduceLROnPlateau, CSVLogger, EarlyStopping\n",
        "\n",
        "import numpy as np\n",
        "import time\n",
        "import scipy.ndimage as nd\n",
        "\n",
        "from tensorflow.keras.applications.vgg19 import preprocess_input"
      ],
      "metadata": {
        "id": "VmgDgC7j9ROj"
      },
      "execution_count": null,
      "outputs": []
    },
    {
      "cell_type": "code",
      "source": [
        "from google.colab import drive\n",
        "\n",
        "drive.mount( '/content/drive', force_remount=True )"
      ],
      "metadata": {
        "colab": {
          "base_uri": "https://localhost:8080/"
        },
        "id": "O1YHjUqJ9SPn",
        "outputId": "2a5d4232-56ab-487c-f4e2-2eca456ab1b6"
      },
      "execution_count": null,
      "outputs": [
        {
          "output_type": "stream",
          "name": "stdout",
          "text": [
            "Mounted at /content/drive\n"
          ]
        }
      ]
    },
    {
      "cell_type": "code",
      "source": [
        "! git clone https://github.com/seshuad/IMagenet\n",
        "! ls 'IMagenet/tiny-imagenet-200/'"
      ],
      "metadata": {
        "colab": {
          "base_uri": "https://localhost:8080/"
        },
        "id": "2PCEZVU99X4_",
        "outputId": "20dd5e83-c92f-4915-8284-f14b931727ad"
      },
      "execution_count": null,
      "outputs": [
        {
          "output_type": "stream",
          "name": "stdout",
          "text": [
            "Cloning into 'IMagenet'...\n",
            "remote: Enumerating objects: 120594, done.\u001b[K\n",
            "remote: Total 120594 (delta 0), reused 0 (delta 0), pack-reused 120594\u001b[K\n",
            "Receiving objects: 100% (120594/120594), 212.68 MiB | 44.66 MiB/s, done.\n",
            "Resolving deltas: 100% (1115/1115), done.\n",
            "Updating files: 100% (120206/120206), done.\n",
            "test  train  val  wnids.txt  words.txt\n"
          ]
        }
      ]
    },
    {
      "cell_type": "code",
      "source": [],
      "metadata": {
        "id": "mQbkCmLTvh50"
      },
      "execution_count": null,
      "outputs": []
    },
    {
      "cell_type": "code",
      "source": [
        "import time\n",
        "import numpy as np\n",
        "import imageio\n",
        "from PIL import Image\n",
        "\n",
        "path = 'IMagenet/tiny-imagenet-200/'\n",
        "\n",
        "def get_id_dictionary():\n",
        "    id_dict = {}\n",
        "    for i, line in enumerate(open(path + 'wnids.txt', 'r')):\n",
        "        id_dict[line.replace('\\n', '')] = i\n",
        "    return id_dict\n",
        "\n",
        "def get_class_to_id_dict():\n",
        "    id_dict = get_id_dictionary()\n",
        "    all_classes = {}\n",
        "    result = {}\n",
        "    for i, line in enumerate(open(path + 'words.txt', 'r')):\n",
        "        n_id, word = line.split('\\t')[:2]\n",
        "        all_classes[n_id] = word\n",
        "    for key, value in id_dict.items():\n",
        "        result[value] = (key, all_classes[key])\n",
        "    return result\n",
        "\n",
        "def resize_image(image_path, target_size=(32, 32)):\n",
        "    with Image.open(image_path) as img:\n",
        "        # Convert image to RGB\n",
        "        img = img.convert('RGB')\n",
        "        # Resize image\n",
        "        img = img.resize(target_size, Image.Resampling.LANCZOS)  # Updated to use Resampling.LANCZOS\n",
        "        return np.array(img)\n",
        "\n",
        "def get_data(id_dict):\n",
        "    print('starting loading data')\n",
        "    train_data, test_data = [], []\n",
        "    train_labels, test_labels = [], []\n",
        "    t = time.time()\n",
        "\n",
        "    # Load and resize train images\n",
        "    for key, value in id_dict.items():\n",
        "        images = [resize_image(path + 'train/{}/images/{}_{}.JPEG'.format(key, key, str(i))) for i in range(500)]\n",
        "        train_data.extend(images)\n",
        "        train_labels_ = np.zeros((500, 200))\n",
        "        train_labels_[:, value] = 1\n",
        "        train_labels.extend(train_labels_)\n",
        "\n",
        "    # Load and resize validation images\n",
        "    for line in open(path + 'val/val_annotations.txt'):\n",
        "        img_name, class_id = line.split('\\t')[:2]\n",
        "        image = resize_image(path + 'val/images/{}'.format(img_name))\n",
        "        test_data.append(image)\n",
        "        test_labels_ = np.zeros((1, 200))\n",
        "        test_labels_[0, id_dict[class_id]] = 1\n",
        "        test_labels.extend(test_labels_)\n",
        "\n",
        "    print('finished loading data, in {} seconds'.format(time.time() - t))\n",
        "    return np.array(train_data), np.array(train_labels), np.array(test_data), np.array(test_labels)\n",
        "\n",
        "train_data, train_labels, test_data, test_labels = get_data(get_id_dictionary())\n",
        "\n",
        "print(\"train data shape: \", train_data.shape)\n",
        "print(\"train label shape: \", train_labels.shape)\n",
        "print(\"test data shape: \", test_data.shape)\n",
        "print(\"test_labels.shape: \", test_labels.shape)\n"
      ],
      "metadata": {
        "colab": {
          "base_uri": "https://localhost:8080/"
        },
        "id": "Drq5uyKu9Y7N",
        "outputId": "36abaa07-004e-4127-837d-206a25194a8c"
      },
      "execution_count": null,
      "outputs": [
        {
          "output_type": "stream",
          "name": "stdout",
          "text": [
            "starting loading data\n",
            "finished loading data, in 32.2866096496582 seconds\n",
            "train data shape:  (100000, 32, 32, 3)\n",
            "train label shape:  (100000, 200)\n",
            "test data shape:  (10000, 32, 32, 3)\n",
            "test_labels.shape:  (10000, 200)\n"
          ]
        }
      ]
    },
    {
      "cell_type": "code",
      "source": [
        "import keras\n",
        "inputs = keras.Input(shape=(64,64,3))"
      ],
      "metadata": {
        "id": "7PyHbWaH9gWW"
      },
      "execution_count": null,
      "outputs": []
    },
    {
      "cell_type": "code",
      "source": [
        "def shuffle_data(train_data, train_labels ):\n",
        "    size = len(train_data)\n",
        "    train_idx = np.arange(size)\n",
        "    np.random.shuffle(train_idx)\n",
        "\n",
        "    return train_data[train_idx], train_labels[train_idx]\n",
        "\n",
        "train_data, train_labels = shuffle_data(train_data, train_labels)"
      ],
      "metadata": {
        "id": "6P7tiuPf9kQT"
      },
      "execution_count": null,
      "outputs": []
    },
    {
      "cell_type": "code",
      "source": [
        "train_data = train_data * 1.0/255\n",
        "test_data = test_data * 1.0/255"
      ],
      "metadata": {
        "id": "RRi3fozv-IPZ"
      },
      "execution_count": null,
      "outputs": []
    },
    {
      "cell_type": "code",
      "source": [
        "train_datagen = ImageDataGenerator(\n",
        "        rotation_range = 10,\n",
        "        zoom_range = 0.1,\n",
        "        width_shift_range = 0.1,\n",
        "        height_shift_range = 0.1,\n",
        "        shear_range = 0.1,\n",
        "        horizontal_flip = True,\n",
        "        vertical_flip = False\n",
        "        )\n",
        "train_datagen.fit(train_data)"
      ],
      "metadata": {
        "id": "CSVWoFCN-iTp"
      },
      "execution_count": null,
      "outputs": []
    },
    {
      "cell_type": "code",
      "source": [
        "from keras.callbacks import ReduceLROnPlateau\n",
        "learning_rate_reduction = ReduceLROnPlateau(\n",
        "    monitor='val_accuracy',\n",
        "    patience=3,\n",
        "    verbose=1,\n",
        "    factor=0.6,\n",
        "    min_lr=1e-6)"
      ],
      "metadata": {
        "id": "U2rv_to7-jpE"
      },
      "execution_count": null,
      "outputs": []
    },
    {
      "cell_type": "code",
      "source": [
        "reconstructed_model = tf.keras.models.load_model('model.keras')"
      ],
      "metadata": {
        "id": "Ay8D3W6_qp_d"
      },
      "execution_count": null,
      "outputs": []
    },
    {
      "cell_type": "code",
      "source": [
        "reconstructed_model.summary()"
      ],
      "metadata": {
        "colab": {
          "base_uri": "https://localhost:8080/"
        },
        "id": "WffA48AhrHDg",
        "outputId": "c3b25095-cd49-4cd2-80fb-4adc3ad889bb"
      },
      "execution_count": null,
      "outputs": [
        {
          "output_type": "stream",
          "name": "stdout",
          "text": [
            "Model: \"sequential_24\"\n",
            "_________________________________________________________________\n",
            " Layer (type)                Output Shape              Param #   \n",
            "=================================================================\n",
            " conv2d_173 (Conv2D)         (None, 32, 32, 128)       3584      \n",
            "                                                                 \n",
            " p_re_lu_30 (PReLU)          (None, 32, 32, 128)       131072    \n",
            "                                                                 \n",
            " batch_normalization_110 (B  (None, 32, 32, 128)       512       \n",
            " atchNormalization)                                              \n",
            "                                                                 \n",
            " conv2d_174 (Conv2D)         (None, 32, 32, 128)       409728    \n",
            "                                                                 \n",
            " p_re_lu_31 (PReLU)          (None, 32, 32, 128)       131072    \n",
            "                                                                 \n",
            " batch_normalization_111 (B  (None, 32, 32, 128)       512       \n",
            " atchNormalization)                                              \n",
            "                                                                 \n",
            " max_pooling2d_65 (MaxPooli  (None, 16, 16, 128)       0         \n",
            " ng2D)                                                           \n",
            "                                                                 \n",
            " dropout_92 (Dropout)        (None, 16, 16, 128)       0         \n",
            "                                                                 \n",
            " conv2d_175 (Conv2D)         (None, 16, 16, 256)       295168    \n",
            "                                                                 \n",
            " p_re_lu_32 (PReLU)          (None, 16, 16, 256)       65536     \n",
            "                                                                 \n",
            " batch_normalization_112 (B  (None, 16, 16, 256)       1024      \n",
            " atchNormalization)                                              \n",
            "                                                                 \n",
            " conv2d_176 (Conv2D)         (None, 16, 16, 256)       590080    \n",
            "                                                                 \n",
            " p_re_lu_33 (PReLU)          (None, 16, 16, 256)       65536     \n",
            "                                                                 \n",
            " batch_normalization_113 (B  (None, 16, 16, 256)       1024      \n",
            " atchNormalization)                                              \n",
            "                                                                 \n",
            " max_pooling2d_66 (MaxPooli  (None, 8, 8, 256)         0         \n",
            " ng2D)                                                           \n",
            "                                                                 \n",
            " dropout_93 (Dropout)        (None, 8, 8, 256)         0         \n",
            "                                                                 \n",
            " conv2d_177 (Conv2D)         (None, 8, 8, 256)         590080    \n",
            "                                                                 \n",
            " p_re_lu_34 (PReLU)          (None, 8, 8, 256)         16384     \n",
            "                                                                 \n",
            " batch_normalization_114 (B  (None, 8, 8, 256)         1024      \n",
            " atchNormalization)                                              \n",
            "                                                                 \n",
            " conv2d_178 (Conv2D)         (None, 8, 8, 256)         590080    \n",
            "                                                                 \n",
            " p_re_lu_35 (PReLU)          (None, 8, 8, 256)         16384     \n",
            "                                                                 \n",
            " batch_normalization_115 (B  (None, 8, 8, 256)         1024      \n",
            " atchNormalization)                                              \n",
            "                                                                 \n",
            " max_pooling2d_67 (MaxPooli  (None, 4, 4, 256)         0         \n",
            " ng2D)                                                           \n",
            "                                                                 \n",
            " dropout_94 (Dropout)        (None, 4, 4, 256)         0         \n",
            "                                                                 \n",
            " global_average_pooling2d_1  (None, 256)               0         \n",
            " 2 (GlobalAveragePooling2D)                                      \n",
            "                                                                 \n",
            " dense_35 (Dense)            (None, 512)               131584    \n",
            "                                                                 \n",
            " p_re_lu_36 (PReLU)          (None, 512)               512       \n",
            "                                                                 \n",
            " dropout_95 (Dropout)        (None, 512)               0         \n",
            "                                                                 \n",
            " dense_36 (Dense)            (None, 100)               51300     \n",
            "                                                                 \n",
            "=================================================================\n",
            "Total params: 3093220 (11.80 MB)\n",
            "Trainable params: 3090660 (11.79 MB)\n",
            "Non-trainable params: 2560 (10.00 KB)\n",
            "_________________________________________________________________\n"
          ]
        }
      ]
    },
    {
      "cell_type": "code",
      "source": [
        "new_model = tf.keras.Sequential()\n",
        "for layer in reconstructed_model.layers[:-1]:\n",
        "    layer.trainable = False\n",
        "    new_model.add(layer)\n",
        "\n",
        "new_model.add(tf.keras.layers.Dense(200, activation='softmax'))"
      ],
      "metadata": {
        "id": "jZ2R3OtarMjg"
      },
      "execution_count": null,
      "outputs": []
    },
    {
      "cell_type": "code",
      "source": [
        "new_model.compile(optimizer='adam', loss='categorical_crossentropy', metrics=['accuracy'])\n",
        "new_model.summary()"
      ],
      "metadata": {
        "colab": {
          "base_uri": "https://localhost:8080/"
        },
        "id": "rX2CTHPrrf9x",
        "outputId": "321bdc34-e43c-4c36-9dc7-7c84ed900436"
      },
      "execution_count": null,
      "outputs": [
        {
          "output_type": "stream",
          "name": "stdout",
          "text": [
            "Model: \"sequential_8\"\n",
            "_________________________________________________________________\n",
            " Layer (type)                Output Shape              Param #   \n",
            "=================================================================\n",
            " conv2d_173 (Conv2D)         (None, 32, 32, 128)       3584      \n",
            "                                                                 \n",
            " p_re_lu_30 (PReLU)          (None, 32, 32, 128)       131072    \n",
            "                                                                 \n",
            " batch_normalization_110 (B  (None, 32, 32, 128)       512       \n",
            " atchNormalization)                                              \n",
            "                                                                 \n",
            " conv2d_174 (Conv2D)         (None, 32, 32, 128)       409728    \n",
            "                                                                 \n",
            " p_re_lu_31 (PReLU)          (None, 32, 32, 128)       131072    \n",
            "                                                                 \n",
            " batch_normalization_111 (B  (None, 32, 32, 128)       512       \n",
            " atchNormalization)                                              \n",
            "                                                                 \n",
            " max_pooling2d_65 (MaxPooli  (None, 16, 16, 128)       0         \n",
            " ng2D)                                                           \n",
            "                                                                 \n",
            " dropout_92 (Dropout)        (None, 16, 16, 128)       0         \n",
            "                                                                 \n",
            " conv2d_175 (Conv2D)         (None, 16, 16, 256)       295168    \n",
            "                                                                 \n",
            " p_re_lu_32 (PReLU)          (None, 16, 16, 256)       65536     \n",
            "                                                                 \n",
            " batch_normalization_112 (B  (None, 16, 16, 256)       1024      \n",
            " atchNormalization)                                              \n",
            "                                                                 \n",
            " conv2d_176 (Conv2D)         (None, 16, 16, 256)       590080    \n",
            "                                                                 \n",
            " p_re_lu_33 (PReLU)          (None, 16, 16, 256)       65536     \n",
            "                                                                 \n",
            " batch_normalization_113 (B  (None, 16, 16, 256)       1024      \n",
            " atchNormalization)                                              \n",
            "                                                                 \n",
            " max_pooling2d_66 (MaxPooli  (None, 8, 8, 256)         0         \n",
            " ng2D)                                                           \n",
            "                                                                 \n",
            " dropout_93 (Dropout)        (None, 8, 8, 256)         0         \n",
            "                                                                 \n",
            " conv2d_177 (Conv2D)         (None, 8, 8, 256)         590080    \n",
            "                                                                 \n",
            " p_re_lu_34 (PReLU)          (None, 8, 8, 256)         16384     \n",
            "                                                                 \n",
            " batch_normalization_114 (B  (None, 8, 8, 256)         1024      \n",
            " atchNormalization)                                              \n",
            "                                                                 \n",
            " conv2d_178 (Conv2D)         (None, 8, 8, 256)         590080    \n",
            "                                                                 \n",
            " p_re_lu_35 (PReLU)          (None, 8, 8, 256)         16384     \n",
            "                                                                 \n",
            " batch_normalization_115 (B  (None, 8, 8, 256)         1024      \n",
            " atchNormalization)                                              \n",
            "                                                                 \n",
            " max_pooling2d_67 (MaxPooli  (None, 4, 4, 256)         0         \n",
            " ng2D)                                                           \n",
            "                                                                 \n",
            " dropout_94 (Dropout)        (None, 4, 4, 256)         0         \n",
            "                                                                 \n",
            " global_average_pooling2d_1  (None, 256)               0         \n",
            " 2 (GlobalAveragePooling2D)                                      \n",
            "                                                                 \n",
            " dense_35 (Dense)            (None, 512)               131584    \n",
            "                                                                 \n",
            " p_re_lu_36 (PReLU)          (None, 512)               512       \n",
            "                                                                 \n",
            " dropout_95 (Dropout)        (None, 512)               0         \n",
            "                                                                 \n",
            " dense_8 (Dense)             (None, 200)               102600    \n",
            "                                                                 \n",
            "=================================================================\n",
            "Total params: 3144520 (12.00 MB)\n",
            "Trainable params: 102600 (400.78 KB)\n",
            "Non-trainable params: 3041920 (11.60 MB)\n",
            "_________________________________________________________________\n"
          ]
        }
      ]
    },
    {
      "cell_type": "code",
      "source": [
        "x_train,x_val,y_train,y_val = train_test_split(train_data, train_labels, test_size = 0.2)"
      ],
      "metadata": {
        "id": "llqUvSNSrlX1"
      },
      "execution_count": null,
      "outputs": []
    },
    {
      "cell_type": "code",
      "source": [
        "history = new_model.fit(\n",
        "    train_datagen.flow(x_train, y_train, batch_size = 64),\n",
        "    validation_data = (x_val, y_val),\n",
        "    epochs = 20,\n",
        "    verbose = 1\n",
        ")"
      ],
      "metadata": {
        "colab": {
          "base_uri": "https://localhost:8080/"
        },
        "id": "pMsIC-BPtNJh",
        "outputId": "9bbdcf70-f77d-4427-cb28-42638f251285"
      },
      "execution_count": null,
      "outputs": [
        {
          "output_type": "stream",
          "name": "stdout",
          "text": [
            "Epoch 1/20\n",
            "1250/1250 [==============================] - 50s 37ms/step - loss: 4.4448 - accuracy: 0.0860 - val_loss: 4.0160 - val_accuracy: 0.1407\n",
            "Epoch 2/20\n",
            "1250/1250 [==============================] - 45s 36ms/step - loss: 4.1499 - accuracy: 0.1196 - val_loss: 3.9516 - val_accuracy: 0.1505\n",
            "Epoch 3/20\n",
            "1250/1250 [==============================] - 45s 36ms/step - loss: 4.0949 - accuracy: 0.1283 - val_loss: 3.9089 - val_accuracy: 0.1547\n",
            "Epoch 4/20\n",
            "1250/1250 [==============================] - 45s 36ms/step - loss: 4.0655 - accuracy: 0.1308 - val_loss: 3.9021 - val_accuracy: 0.1564\n",
            "Epoch 5/20\n",
            "1250/1250 [==============================] - 45s 36ms/step - loss: 4.0583 - accuracy: 0.1324 - val_loss: 3.8875 - val_accuracy: 0.1548\n",
            "Epoch 6/20\n",
            "1250/1250 [==============================] - 45s 36ms/step - loss: 4.0461 - accuracy: 0.1330 - val_loss: 3.8846 - val_accuracy: 0.1597\n",
            "Epoch 7/20\n",
            "1250/1250 [==============================] - 45s 36ms/step - loss: 4.0352 - accuracy: 0.1355 - val_loss: 3.8768 - val_accuracy: 0.1616\n",
            "Epoch 8/20\n",
            "1250/1250 [==============================] - 45s 36ms/step - loss: 4.0366 - accuracy: 0.1381 - val_loss: 3.8628 - val_accuracy: 0.1608\n",
            "Epoch 9/20\n",
            "1250/1250 [==============================] - 45s 36ms/step - loss: 4.0299 - accuracy: 0.1363 - val_loss: 3.8632 - val_accuracy: 0.1605\n",
            "Epoch 10/20\n",
            "1250/1250 [==============================] - 45s 36ms/step - loss: 4.0264 - accuracy: 0.1376 - val_loss: 3.8534 - val_accuracy: 0.1612\n",
            "Epoch 11/20\n",
            "1250/1250 [==============================] - 45s 36ms/step - loss: 4.0287 - accuracy: 0.1380 - val_loss: 3.8589 - val_accuracy: 0.1621\n",
            "Epoch 12/20\n",
            "1250/1250 [==============================] - 45s 36ms/step - loss: 4.0307 - accuracy: 0.1359 - val_loss: 3.8584 - val_accuracy: 0.1619\n",
            "Epoch 13/20\n",
            "1250/1250 [==============================] - 45s 36ms/step - loss: 4.0214 - accuracy: 0.1372 - val_loss: 3.8478 - val_accuracy: 0.1661\n",
            "Epoch 14/20\n",
            "1250/1250 [==============================] - 44s 35ms/step - loss: 4.0221 - accuracy: 0.1369 - val_loss: 3.8481 - val_accuracy: 0.1626\n",
            "Epoch 15/20\n",
            "1250/1250 [==============================] - 45s 36ms/step - loss: 4.0227 - accuracy: 0.1371 - val_loss: 3.8527 - val_accuracy: 0.1642\n",
            "Epoch 16/20\n",
            "1250/1250 [==============================] - 45s 36ms/step - loss: 4.0210 - accuracy: 0.1371 - val_loss: 3.8523 - val_accuracy: 0.1620\n",
            "Epoch 17/20\n",
            "1250/1250 [==============================] - 45s 36ms/step - loss: 4.0146 - accuracy: 0.1376 - val_loss: 3.8446 - val_accuracy: 0.1652\n",
            "Epoch 18/20\n",
            "1250/1250 [==============================] - 45s 36ms/step - loss: 4.0171 - accuracy: 0.1386 - val_loss: 3.8545 - val_accuracy: 0.1626\n",
            "Epoch 19/20\n",
            "1250/1250 [==============================] - 46s 37ms/step - loss: 4.0197 - accuracy: 0.1371 - val_loss: 3.8473 - val_accuracy: 0.1622\n",
            "Epoch 20/20\n",
            "1250/1250 [==============================] - 46s 36ms/step - loss: 4.0216 - accuracy: 0.1365 - val_loss: 3.8494 - val_accuracy: 0.1639\n"
          ]
        }
      ]
    },
    {
      "cell_type": "code",
      "source": [
        "from tensorflow.keras.applications.resnet50 import ResNet50\n",
        "resnet_model = ResNet50(\n",
        "    include_top = False,\n",
        "    weights = 'imagenet',\n",
        "    input_shape = (64,64,3)\n",
        ")\n",
        "\n",
        "for layer in resnet_model.layers:\n",
        "    if isinstance(layer, BatchNormalization):\n",
        "        layer.trainable = True\n",
        "    else:\n",
        "        layer.trainable = False"
      ],
      "metadata": {
        "id": "6BEQ5Dmt-oXj"
      },
      "execution_count": null,
      "outputs": []
    },
    {
      "cell_type": "code",
      "source": [
        "model=tf.keras.models.Sequential()\n",
        "model.add(resnet_model)\n",
        "model.add(GlobalAveragePooling2D())\n",
        "model.add(Dropout(.25))\n",
        "model.add(Dense(256, activation='elu'))\n",
        "model.add(BatchNormalization())\n",
        "model.add(Dense(200, activation='softmax'))"
      ],
      "metadata": {
        "id": "RmTcmpFv-ucy"
      },
      "execution_count": null,
      "outputs": []
    },
    {
      "cell_type": "code",
      "source": [
        "optimizer = tf.keras.optimizers.SGD(learning_rate=1e-3, momentum=0.9)"
      ],
      "metadata": {
        "id": "L4JXrJAO-xqZ"
      },
      "execution_count": null,
      "outputs": []
    },
    {
      "cell_type": "code",
      "source": [
        "model.compile(\n",
        "    optimizer = optimizer,\n",
        "    loss='categorical_crossentropy',\n",
        "    metrics=['accuracy']\n",
        ")"
      ],
      "metadata": {
        "id": "jO_9ueOu-0aY"
      },
      "execution_count": null,
      "outputs": []
    },
    {
      "cell_type": "code",
      "source": [
        "x_train,x_val,y_train,y_val = train_test_split(train_data, train_labels, test_size = 0.2)"
      ],
      "metadata": {
        "id": "EZRw71T6_HXa"
      },
      "execution_count": null,
      "outputs": []
    },
    {
      "cell_type": "code",
      "source": [
        "result=model.fit(\n",
        "    train_datagen.flow(x_train, y_train, batch_size = 64),\n",
        "    validation_data = (x_val, y_val),\n",
        "    epochs = 20,\n",
        "    verbose = 1,\n",
        "    callbacks = [learning_rate_reduction]\n",
        ")"
      ],
      "metadata": {
        "colab": {
          "base_uri": "https://localhost:8080/"
        },
        "id": "rnXAe3fa-2I6",
        "outputId": "5861d70b-c620-4054-9019-5ff7f52d05ba"
      },
      "execution_count": null,
      "outputs": [
        {
          "output_type": "stream",
          "name": "stdout",
          "text": [
            "Epoch 1/20\n",
            "1250/1250 [==============================] - 122s 85ms/step - loss: 4.7827 - accuracy: 0.0803 - val_loss: 3.9301 - val_accuracy: 0.1979 - lr: 0.0010\n",
            "Epoch 2/20\n",
            "1250/1250 [==============================] - 102s 81ms/step - loss: 3.7729 - accuracy: 0.2026 - val_loss: 3.3193 - val_accuracy: 0.2767 - lr: 0.0010\n",
            "Epoch 3/20\n",
            "1250/1250 [==============================] - 102s 81ms/step - loss: 3.3643 - accuracy: 0.2614 - val_loss: 3.0420 - val_accuracy: 0.3203 - lr: 0.0010\n",
            "Epoch 4/20\n",
            "1250/1250 [==============================] - 102s 82ms/step - loss: 3.1218 - accuracy: 0.2995 - val_loss: 2.8769 - val_accuracy: 0.3471 - lr: 0.0010\n",
            "Epoch 5/20\n",
            "1250/1250 [==============================] - 102s 82ms/step - loss: 2.9620 - accuracy: 0.3258 - val_loss: 2.7594 - val_accuracy: 0.3672 - lr: 0.0010\n",
            "Epoch 6/20\n",
            "1250/1250 [==============================] - 102s 82ms/step - loss: 2.8388 - accuracy: 0.3458 - val_loss: 2.6712 - val_accuracy: 0.3812 - lr: 0.0010\n",
            "Epoch 7/20\n",
            "1250/1250 [==============================] - 101s 80ms/step - loss: 2.7397 - accuracy: 0.3644 - val_loss: 2.6021 - val_accuracy: 0.3920 - lr: 0.0010\n",
            "Epoch 8/20\n",
            "1250/1250 [==============================] - 101s 81ms/step - loss: 2.6593 - accuracy: 0.3796 - val_loss: 2.5446 - val_accuracy: 0.4044 - lr: 0.0010\n",
            "Epoch 9/20\n",
            "1250/1250 [==============================] - 101s 81ms/step - loss: 2.5916 - accuracy: 0.3889 - val_loss: 2.5072 - val_accuracy: 0.4123 - lr: 0.0010\n",
            "Epoch 10/20\n",
            "1250/1250 [==============================] - 101s 81ms/step - loss: 2.5387 - accuracy: 0.4000 - val_loss: 2.4677 - val_accuracy: 0.4180 - lr: 0.0010\n",
            "Epoch 11/20\n",
            "1250/1250 [==============================] - 101s 81ms/step - loss: 2.4842 - accuracy: 0.4104 - val_loss: 2.4378 - val_accuracy: 0.4245 - lr: 0.0010\n",
            "Epoch 12/20\n",
            "1250/1250 [==============================] - 101s 81ms/step - loss: 2.4460 - accuracy: 0.4173 - val_loss: 2.4109 - val_accuracy: 0.4285 - lr: 0.0010\n",
            "Epoch 13/20\n",
            "1250/1250 [==============================] - 101s 81ms/step - loss: 2.4106 - accuracy: 0.4230 - val_loss: 2.3756 - val_accuracy: 0.4378 - lr: 0.0010\n",
            "Epoch 14/20\n",
            "1250/1250 [==============================] - 102s 81ms/step - loss: 2.3674 - accuracy: 0.4302 - val_loss: 2.3570 - val_accuracy: 0.4403 - lr: 0.0010\n",
            "Epoch 15/20\n",
            "1250/1250 [==============================] - 101s 81ms/step - loss: 2.3354 - accuracy: 0.4377 - val_loss: 2.3438 - val_accuracy: 0.4441 - lr: 0.0010\n",
            "Epoch 16/20\n",
            "1250/1250 [==============================] - 101s 81ms/step - loss: 2.3014 - accuracy: 0.4414 - val_loss: 2.3343 - val_accuracy: 0.4444 - lr: 0.0010\n",
            "Epoch 17/20\n",
            "1250/1250 [==============================] - 101s 81ms/step - loss: 2.2820 - accuracy: 0.4467 - val_loss: 2.3038 - val_accuracy: 0.4509 - lr: 0.0010\n",
            "Epoch 18/20\n",
            "1250/1250 [==============================] - 100s 80ms/step - loss: 2.2483 - accuracy: 0.4529 - val_loss: 2.2958 - val_accuracy: 0.4511 - lr: 0.0010\n",
            "Epoch 19/20\n",
            "1250/1250 [==============================] - 101s 81ms/step - loss: 2.2327 - accuracy: 0.4542 - val_loss: 2.2922 - val_accuracy: 0.4539 - lr: 0.0010\n",
            "Epoch 20/20\n",
            "1250/1250 [==============================] - 101s 81ms/step - loss: 2.2074 - accuracy: 0.4612 - val_loss: 2.2731 - val_accuracy: 0.4599 - lr: 0.0010\n"
          ]
        }
      ]
    },
    {
      "cell_type": "code",
      "source": [
        "plot_acc_loss(result)"
      ],
      "metadata": {
        "colab": {
          "base_uri": "https://localhost:8080/",
          "height": 347
        },
        "id": "vZbj4NELVBrd",
        "outputId": "08e68e5e-fd1b-47a2-a389-5442dc22cc86"
      },
      "execution_count": null,
      "outputs": [
        {
          "output_type": "display_data",
          "data": {
            "text/plain": [
              "<Figure size 2000x1000 with 2 Axes>"
            ],
            "image/png": "[encoded data removed]"
          },
          "metadata": {}
        }
      ]
    },
    {
      "cell_type": "code",
      "source": [
        "print(\"Testing Accuracy: \", accuracy_score(y_true,y_pred))"
      ],
      "metadata": {
        "colab": {
          "base_uri": "https://localhost:8080/",
          "height": 146
        },
        "id": "eIu4FHwdWG9_",
        "outputId": "acf24e67-b134-4a59-df8f-31f0fa04ebf7"
      },
      "execution_count": null,
      "outputs": [
        {
          "output_type": "error",
          "ename": "NameError",
          "evalue": "name 'y_true' is not defined",
          "traceback": [
            "\u001b[0;31m---------------------------------------------------------------------------\u001b[0m",
            "\u001b[0;31mNameError\u001b[0m                                 Traceback (most recent call last)",
            "\u001b[0;32m<ipython-input-25-0961f0df5f65>\u001b[0m in \u001b[0;36m<cell line: 1>\u001b[0;34m()\u001b[0m\n\u001b[0;32m----> 1\u001b[0;31m \u001b[0mprint\u001b[0m\u001b[0;34m(\u001b[0m\u001b[0;34m\"Testing Accuracy: \"\u001b[0m\u001b[0;34m,\u001b[0m \u001b[0maccuracy_score\u001b[0m\u001b[0;34m(\u001b[0m\u001b[0my_true\u001b[0m\u001b[0;34m,\u001b[0m\u001b[0my_pred\u001b[0m\u001b[0;34m)\u001b[0m\u001b[0;34m)\u001b[0m\u001b[0;34m\u001b[0m\u001b[0;34m\u001b[0m\u001b[0m\n\u001b[0m",
            "\u001b[0;31mNameError\u001b[0m: name 'y_true' is not defined"
          ]
        }
      ]
    }
  ]
}